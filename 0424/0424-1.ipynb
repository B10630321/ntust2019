{
 "cells": [
  {
   "cell_type": "code",
   "execution_count": 16,
   "metadata": {},
   "outputs": [
    {
     "name": "stdout",
     "output_type": "stream",
     "text": [
      "輸入成績:59\n",
      "不及格\n"
     ]
    }
   ],
   "source": [
    "x=input(\"輸入成績:\")\n",
    "if x.isdigit():\n",
    "    grade=int(x)\n",
    "    if grade>=80:\n",
    "        print(\"優秀\")\n",
    "    elif grade>=60:\n",
    "        print(\"及格\")\n",
    "    elif grade<60:\n",
    "        print(\"不及格\")\n",
    "else:\n",
    "    print(\"未知\")"
   ]
  },
  {
   "cell_type": "code",
   "execution_count": null,
   "metadata": {},
   "outputs": [],
   "source": []
  },
  {
   "cell_type": "code",
   "execution_count": null,
   "metadata": {},
   "outputs": [],
   "source": []
  }
 ],
 "metadata": {
  "kernelspec": {
   "display_name": "Python 3",
   "language": "python",
   "name": "python3"
  },
  "language_info": {
   "codemirror_mode": {
    "name": "ipython",
    "version": 3
   },
   "file_extension": ".py",
   "mimetype": "text/x-python",
   "name": "python",
   "nbconvert_exporter": "python",
   "pygments_lexer": "ipython3",
   "version": "3.7.3"
  }
 },
 "nbformat": 4,
 "nbformat_minor": 2
}
